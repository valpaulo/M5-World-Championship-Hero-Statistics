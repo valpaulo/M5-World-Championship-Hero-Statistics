{
 "cells": [
  {
   "cell_type": "markdown",
   "id": "85a3a866",
   "metadata": {},
   "source": [
    "# M5 World Championship Statistics\n",
    "\n",
    "<!-- The M5 World Championship is the final event and the World Championship of the MLBB 2023 Competitive Season organized by Moonton.\n",
    "\n",
    "I scraped the result statistics provided in https://liquipedia.net/mobilelegends/M5_World_Championship/Statistics and stored it to 'm5_world_championship_stats.csv'.\n",
    "\n",
    "Included here are the Hero picks and bans, win rate, the teams who played the hero, etc.\n",
    "\n",
    "This statistics could help MLBB players determine which heroes to play in their games.\n",
    "\n",
    "libraries used: Requests, BeautifulSoup, Pandas, Matplotlib -->\n"
   ]
  },
  {
   "cell_type": "code",
   "execution_count": 16,
   "id": "886134a4",
   "metadata": {},
   "outputs": [
    {
     "name": "stdout",
     "output_type": "stream",
     "text": [
      "Data has been written to m5_world_championship_stats.csv\n"
     ]
    }
   ],
   "source": [
    "import requests\n",
    "from bs4 import BeautifulSoup\n",
    "import csv\n",
    "\n",
    "url = \"https://liquipedia.net/mobilelegends/M5_World_Championship/Statistics\"\n",
    "\n",
    "# Send an HTTP request to the URL and get the content\n",
    "response = requests.get(url)\n",
    "\n",
    "# Check if the request was successful (status code 200)\n",
    "if response.status_code == 200:\n",
    "    # Parse the HTML content using BeautifulSoup\n",
    "    soup = BeautifulSoup(response.text, 'html.parser')\n",
    "    \n",
    "    output_csv_path = 'm5_world_championship_stats.csv'\n",
    "\n",
    "    # Create a CSV file and write the header\n",
    "    with open(output_csv_path, 'w', newline='') as csvfile:\n",
    "        csv_writer = csv.writer(csvfile)\n",
    "        header = ['Rank', 'Hero', 'Games Played', 'Games Won', 'Games Lost', 'Win Rate', 'Pick Rate',\n",
    "                  'Blue Games Played', 'Blue Games Won', 'Blue Games Lost', 'Blue Win Rate',\n",
    "                  'Red Games Played', 'Red Games Won', 'Red Games Lost', 'Red Win Rate',\n",
    "                  'Games Banned', 'Ban Rate', 'Bans and Picks', 'Ban and Pick Rate', 'Team Picks']\n",
    "        csv_writer.writerow(header)\n",
    "        \n",
    "        rows = soup.find_all(\"tr\", attrs={\"class\":\"dota-stat-row\"})\n",
    "\n",
    "      # Extract information from each row\n",
    "        for row in rows:\n",
    "            columns = row.find_all('td')\n",
    "            \n",
    "            hero_rank = columns[0].text\n",
    "            hero_name = columns[1].find_all('a')[1].get_text()\n",
    "\n",
    "            # Picks over 152 games\n",
    "            games_played = columns[2].text\n",
    "            games_won = columns[3].text\n",
    "            games_lost = columns[4].text\n",
    "            win_rate = columns[5].text\n",
    "            pick_rate = columns[6].text\n",
    "\n",
    "            # Blue Side Picks\n",
    "            blue_games_played = columns[7].text\n",
    "            blue_games_won = columns[8].text\n",
    "            blue_games_lost = columns[9].text\n",
    "            blue_win_rate = columns[10].text\n",
    "\n",
    "            # Red Side Picks\n",
    "            red_games_played = columns[11].text\n",
    "            red_games_won = columns[12].text\n",
    "            red_games_lost = columns[13].text\n",
    "            red_win_rate = columns[14].text\n",
    "\n",
    "            # Bans\n",
    "            games_banned = columns[15].text\n",
    "            ban_rate = columns[16].text\n",
    "\n",
    "            # Picks and Bans\n",
    "            bans_and_picks = columns[17].text\n",
    "            ban_and_pick_rate = columns[18].text\n",
    "            \n",
    "            # Team Picks        \n",
    "            teams = columns[19].find_all(\"span\", attrs={\"data-highlightingclass\": True})\n",
    "            team_list = [element[\"data-highlightingclass\"] for element in teams]\n",
    "            \n",
    "            records = columns[19].text\n",
    "            separated_records = []\n",
    "\n",
    "            current_record = \"\"\n",
    "            for record in records:\n",
    "                current_record += record\n",
    "                if record.endswith(')'):\n",
    "                    separated_records.append(current_record)\n",
    "                    current_record = \"\"\n",
    "\n",
    "            team_pick_records = dict(zip(team_list, separated_records))\n",
    "            \n",
    "            csv_writer.writerow([hero_rank, hero_name, games_played, games_won, games_lost, win_rate, pick_rate,\n",
    "                                blue_games_played, blue_games_won, blue_games_lost, blue_win_rate,\n",
    "                                red_games_played, red_games_won, red_games_lost, red_win_rate,\n",
    "                                games_banned, ban_rate, bans_and_picks, ban_and_pick_rate, team_pick_records])\n",
    "        print(f\"Data has been written to {output_csv_path}\")\n",
    "else:\n",
    "    print(\"Failed to retrieve the page. Status Code:\", response.status_code)\n"
   ]
  },
  {
   "cell_type": "markdown",
   "id": "671afd99",
   "metadata": {},
   "source": [
    "<!--  Here I used the last column of 'm5_world_championship_stats.csv' to extract the teams who played that hero during the tournament\n",
    " This data could help in determining which hero each team likes to play with -->"
   ]
  },
  {
   "cell_type": "code",
   "execution_count": 14,
   "id": "7fa6fe2a",
   "metadata": {},
   "outputs": [],
   "source": [
    "import ast  # Import the ast module for literal_eval\n",
    "\n",
    "# Replace 'your_file.csv' with the actual path to your CSV file\n",
    "csv_file_path = 'm5_world_championship_stats.csv'\n",
    "\n",
    "# Dictionary to store the last column values\n",
    "last_column_dict = {}\n",
    "\n",
    "# Read the CSV file and extract the last column\n",
    "with open(csv_file_path, 'r') as csvfile:\n",
    "    csv_reader = csv.reader(csvfile)\n",
    "    \n",
    "    for row in csv_reader:\n",
    "        # Assuming the last column is in the last position of each row\n",
    "        last_column_value_str = row[-1]\n",
    "\n",
    "        # Convert the string representation of the dictionary to an actual dictionary\n",
    "        try:\n",
    "            last_column_dict_value = ast.literal_eval(last_column_value_str)\n",
    "            # Assuming the key for the dictionary is the hero_name\n",
    "            hero_name = row[1]  # Adjust the index based on your CSV structure\n",
    "            last_column_dict[hero_name] = last_column_dict_value\n",
    "        except (ValueError, SyntaxError):\n",
    "            continue\n",
    "            # Handle the case where literal_eval fails (e.g., invalid dictionary format)\n",
    "            print(f\"Error processing row: {row}\")\n",
    "\n",
    "# Print the dictionary\n",
    "# print(last_column_dict)"
   ]
  },
  {
   "cell_type": "markdown",
   "id": "2c04fd60",
   "metadata": {},
   "source": [
    "<!--  I then used this dictionary to create another csv file to store the data as 'm5_world_championship_hero_teams.csv' -->"
   ]
  },
  {
   "cell_type": "code",
   "execution_count": 12,
   "id": "14c998a0",
   "metadata": {},
   "outputs": [
    {
     "name": "stdout",
     "output_type": "stream",
     "text": [
      "Data has been written to m5_world_championship_hero_teams.csv\n"
     ]
    }
   ],
   "source": [
    "hero_data = last_column_dict\n",
    "output_csv_path = 'm5_world_championship_hero_teams.csv'\n",
    "\n",
    "# Write data to the new CSV file\n",
    "with open(output_csv_path, 'w', newline='') as csvfile:\n",
    "    csv_writer = csv.writer(csvfile)\n",
    "\n",
    "    # Write header\n",
    "    csv_writer.writerow(['Hero Name', 'Team', 'Games Played', 'Wins', 'Loss'])\n",
    "\n",
    "    # Iterate through the hero data\n",
    "    for hero_name, team_data in hero_data.items():\n",
    "        for team, records in team_data.items():\n",
    "            # Extract relevant information from records\n",
    "            games_played = int(records.split('(')[0].strip())\n",
    "            wins = int(records.split('(')[1].split('-')[0].strip())\n",
    "            losses = int(records.split('(')[1].split('-')[1].replace(')', '').strip())\n",
    "\n",
    "            # Write data to CSV\n",
    "            csv_writer.writerow([hero_name, team, games_played, wins, losses])\n",
    "\n",
    "print(f\"Data has been written to {output_csv_path}\")"
   ]
  },
  {
   "cell_type": "code",
   "execution_count": null,
   "id": "042c7603",
   "metadata": {},
   "outputs": [],
   "source": []
  }
 ],
 "metadata": {
  "kernelspec": {
   "display_name": "Python 3 (ipykernel)",
   "language": "python",
   "name": "python3"
  },
  "language_info": {
   "codemirror_mode": {
    "name": "ipython",
    "version": 3
   },
   "file_extension": ".py",
   "mimetype": "text/x-python",
   "name": "python",
   "nbconvert_exporter": "python",
   "pygments_lexer": "ipython3",
   "version": "3.11.5"
  }
 },
 "nbformat": 4,
 "nbformat_minor": 5
}
